{
 "cells": [
  {
   "cell_type": "code",
   "execution_count": 9,
   "id": "a39140a2",
   "metadata": {},
   "outputs": [],
   "source": [
    "\n",
    "import numpy as np\n",
    "import pandas as pd\n",
    "import matplotlib.pyplot as plt\n",
    "import seaborn as sns\n",
    "from sklearn.model_selection import train_test_split, GridSearchCV\n",
    "from sklearn.preprocessing import StandardScaler, MinMaxScaler, OneHotEncoder\n",
    "from sklearn.compose import ColumnTransformer\n",
    "from sklearn.pipeline import Pipeline\n",
    "from sklearn.metrics import (\n",
    "    accuracy_score,\n",
    "    classification_report,\n",
    "    confusion_matrix,\n",
    "    precision_score,\n",
    "    recall_score,\n",
    "    f1_score,\n",
    ")\n",
    "from torch.utils.data import DataLoader, Dataset, random_split\n",
    "import torchvision\n",
    "from torchvision import datasets, transforms\n",
    "\n"
   ]
  },
  {
   "cell_type": "code",
   "execution_count": 10,
   "id": "fed64979",
   "metadata": {},
   "outputs": [
    {
     "name": "stdout",
     "output_type": "stream",
     "text": [
      "Shape (raw): (60000, 785)\n",
      "X_norm shape: (60000, 784) y shape: (60000,)\n",
      "Min/Max after norm: 0.0 1.0\n"
     ]
    }
   ],
   "source": [
    "# Load and normalize MNIST CSV (0-1)\n",
    "df = pd.read_csv(\"mnist_train.csv\")\n",
    "print(\"Shape (raw):\", df.shape)\n",
    "\n",
    "# first column is label, remaining 784 columns are pixels\n",
    "label_col = df.columns[0]\n",
    "X = df.drop(columns=[label_col]).astype(np.float32)\n",
    "y = df[label_col].astype(np.int64)\n",
    "\n",
    "# Normalize to [0,1]\n",
    "X_norm = X / 255.0\n",
    "\n",
    "print(\"X_norm shape:\", X_norm.shape, \"y shape:\", y.shape)\n",
    "print(\"Min/Max after norm:\", float(X_norm.min().min()), float(X_norm.max().max()))\n"
   ]
  },
  {
   "cell_type": "code",
   "execution_count": 11,
   "id": "e666984c",
   "metadata": {},
   "outputs": [
    {
     "name": "stdout",
     "output_type": "stream",
     "text": [
      "Shapes -> train: (36000, 784) val: (12000, 784) test: (12000, 784)\n"
     ]
    }
   ],
   "source": [
    "# First, split off 20% test from the full dataset\n",
    "X_temp, X_test, y_temp, y_test = train_test_split(\n",
    "    X_norm, y, test_size=0.20, stratify=y\n",
    ")\n",
    "\n",
    "# From the remaining 80%, take 25% as validation (0.25 * 0.80 = 0.20 overall)\n",
    "X_train, X_val, y_train, y_val = train_test_split(\n",
    "    X_temp, y_temp, test_size=0.25, stratify=y_temp\n",
    ")\n",
    "\n",
    "print(\n",
    "    \"Shapes ->\",\n",
    "    f\"train: {X_train.shape}\",\n",
    "    f\"val: {X_val.shape}\",\n",
    "    f\"test: {X_test.shape}\",\n",
    ")"
   ]
  },
  {
   "cell_type": "code",
   "execution_count": 12,
   "id": "f1d0334a",
   "metadata": {},
   "outputs": [
    {
     "name": "stdout",
     "output_type": "stream",
     "text": [
      "Num train batches: 563\n",
      "Num val batches: 188\n",
      "Num test batches: 188\n"
     ]
    }
   ],
   "source": [
    "# Create PyTorch TensorDatasets and DataLoaders\n",
    "import torch\n",
    "from torch.utils.data import TensorDataset, DataLoader\n",
    "\n",
    "BATCH_SIZE = 64\n",
    "\n",
    "def make_loader(X, y, batch_size=BATCH_SIZE, shuffle=False):\n",
    "    tensor_X = torch.tensor(X.values, dtype=torch.float32)\n",
    "    tensor_y = torch.tensor(y.values, dtype=torch.long)\n",
    "    ds = TensorDataset(tensor_X, tensor_y)\n",
    "    return DataLoader(ds, batch_size=batch_size, shuffle=shuffle)\n",
    "\n",
    "train_loader = make_loader(X_train, y_train, shuffle=True)\n",
    "val_loader = make_loader(X_val, y_val)\n",
    "test_loader = make_loader(X_test, y_test)\n",
    "\n",
    "print(f\"Num train batches: {len(train_loader)}\")\n",
    "print(f\"Num val batches: {len(val_loader)}\")\n",
    "print(f\"Num test batches: {len(test_loader)}\")\n"
   ]
  }
 ],
 "metadata": {
  "kernelspec": {
   "display_name": "Python 3",
   "language": "python",
   "name": "python3"
  },
  "language_info": {
   "codemirror_mode": {
    "name": "ipython",
    "version": 3
   },
   "file_extension": ".py",
   "mimetype": "text/x-python",
   "name": "python",
   "nbconvert_exporter": "python",
   "pygments_lexer": "ipython3",
   "version": "3.12.2"
  }
 },
 "nbformat": 4,
 "nbformat_minor": 5
}
