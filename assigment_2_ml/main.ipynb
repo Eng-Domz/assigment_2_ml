{
 "cells": [
  {
   "cell_type": "code",
   "execution_count": 63,
   "id": "a39140a2",
   "metadata": {},
   "outputs": [],
   "source": [
    "# Part A.1: Binary Logistic Regression from Scratch\n",
    "import pandas as pd\n",
    "import matplotlib.pyplot as plt\n",
    "import torch\n",
    "import numpy as np\n",
    "from sklearn.model_selection import train_test_split\n",
    "from sklearn.metrics import confusion_matrix\n",
    "from torch.utils.data import TensorDataset, DataLoader"
   ]
  },
  {
   "cell_type": "markdown",
   "id": "024b4775",
   "metadata": {},
   "source": [
    "## Binary Logistic Regression (Labels 0 vs 1)\n",
    "\n",
    "### Step 1: Load and Prepare the Data\n",
    "\n",
    "Load the MNIST data and filter only rows with labels 0 and 1.\n"
   ]
  },
  {
   "cell_type": "code",
   "execution_count": 64,
   "id": "f5c4f274",
   "metadata": {},
   "outputs": [
    {
     "name": "stdout",
     "output_type": "stream",
     "text": [
      "Original data shape: (60000, 785)\n",
      "\n",
      "Binary data shape (0 and 1 only): (12665, 785)\n",
      "\n",
      "Features shape: torch.Size([12665, 784])\n",
      "Labels shape: torch.Size([12665])\n"
     ]
    }
   ],
   "source": [
    "# Load the data\n",
    "df = pd.read_csv('mnist_train.csv')\n",
    "\n",
    "# Display basic information\n",
    "print(f\"Original data shape: {df.shape}\")\n",
    "\n",
    "# Filter only labels 0 and 1\n",
    "binary_data = df[df.iloc[:, 0].isin([0, 1])].copy()\n",
    "print(f\"\\nBinary data shape (0 and 1 only): {binary_data.shape}\")\n",
    "\n",
    "# Separate features (pixels) and labels\n",
    "X = binary_data.iloc[:, 1:].values  # All columns except first (pixel values)\n",
    "y = binary_data.iloc[:, 0].values   # First column (labels)\n",
    "\n",
    "# Normalize pixel values from [0, 255] to [0, 1]\n",
    "X = X / 255.0\n",
    "\n",
    "# Convert to PyTorch tensors\n",
    "X_tensor = torch.FloatTensor(X)\n",
    "y_tensor = torch.FloatTensor(y)\n",
    "\n",
    "print(f\"\\nFeatures shape: {X_tensor.shape}\")\n",
    "print(f\"Labels shape: {y_tensor.shape}\")\n"
   ]
  },
  {
   "cell_type": "markdown",
   "id": "ebee462c",
   "metadata": {},
   "source": [
    "### Split Data into Train, Validation, and Test Sets\n"
   ]
  },
  {
   "cell_type": "code",
   "execution_count": 65,
   "id": "5290b292",
   "metadata": {},
   "outputs": [
    {
     "name": "stdout",
     "output_type": "stream",
     "text": [
      "Training set: 7599 samples\n",
      "Validation set: 2533 samples\n",
      "Test set: 2533 samples\n",
      "Feature dimension: 784\n"
     ]
    }
   ],
   "source": [
    "# Test set (20% of data)\n",
    "X_temp, X_test, y_temp, y_test = train_test_split(\n",
    "    X_tensor, y_tensor, test_size=0.2, random_state=42, stratify=y_tensor\n",
    ")\n",
    "\n",
    "# Separate train and validation (80% train, 20% validation of remaining)\n",
    "X_train, X_val, y_train, y_val = train_test_split(\n",
    "    X_temp, y_temp, test_size=0.25, random_state=42, stratify=y_temp\n",
    ")\n",
    "\n",
    "print(f\"Training set: {X_train.shape[0]} samples\")\n",
    "print(f\"Validation set: {X_val.shape[0]} samples\")\n",
    "print(f\"Test set: {X_test.shape[0]} samples\")\n",
    "print(f\"Feature dimension: {X_train.shape[1]}\")\n"
   ]
  },
  {
   "cell_type": "markdown",
   "id": "2ed7a8d2",
   "metadata": {},
   "source": [
    "### Functions from Scratch\n",
    "\n",
    "We need to implement three key components:\n",
    "1. **Sigmoid function**: Maps any real number to [0,1] for probability\n",
    "2. **Binary Cross Entropy Loss**: Measures how wrong our predictions are\n",
    "3. **Logistic Regression Model**: The actual model that learns\n"
   ]
  },
  {
   "cell_type": "code",
   "execution_count": 66,
   "id": "255e0d93",
   "metadata": {},
   "outputs": [],
   "source": [
    "# Sigmoid function: σ(z) = 1 / (1 + e^(-z))\n",
    "def sigmoid(z):\n",
    "    # Clip z to avoid overflow in exp(-z) when z is very negative\n",
    "    z_clipped = torch.clamp(z, min=-500, max=500)\n",
    "    return 1 / (1 + torch.exp(-z_clipped))\n"
   ]
  },
  {
   "cell_type": "code",
   "execution_count": 67,
   "id": "e3bc8087",
   "metadata": {},
   "outputs": [],
   "source": [
    "# Binary Cross Entropy Loss: L = -(y*log(p) + (1-y)*log(1-p))\n",
    "# y is the true label and p is the predicted probability\n",
    "def binary_cross_entropy_loss(y_pred, y_true):\n",
    "    # Add small constant to avoid log(0)\n",
    "    constant = 1e-15\n",
    "    y_pred_clipped = torch.clamp(y_pred, constant, 1 - constant)\n",
    "    \n",
    "    # BCE formula: -[y*log(p) + (1-y)*log(1-p)]\n",
    "    loss = -(y_true * torch.log(y_pred_clipped) + (1 - y_true) * torch.log(1 - y_pred_clipped))\n",
    "    \n",
    "    # Return average loss\n",
    "    return torch.mean(loss)\n"
   ]
  },
  {
   "cell_type": "code",
   "execution_count": 68,
   "id": "42f562ec",
   "metadata": {},
   "outputs": [
    {
     "name": "stdout",
     "output_type": "stream",
     "text": [
      "Model initialized!\n",
      "Weight shape: torch.Size([784])\n",
      "Initial bias: 0.0000\n"
     ]
    }
   ],
   "source": [
    "# Logistic Regression Model from Scratch\n",
    "# The model: p = σ(X @ w + b)\n",
    "class LogisticRegression:\n",
    "    \n",
    "    def __init__(self, n_features, learning_rate=0.01):\n",
    "\n",
    "        self.learning_rate = learning_rate\n",
    "        # Initialize weights with small random values\n",
    "        self.weights = torch.randn(n_features, requires_grad=False) * 0.01\n",
    "        # Initialize bias with 0\n",
    "        self.bias = torch.tensor(0.0, requires_grad=False)\n",
    "        \n",
    "    def forward(self, X):\n",
    "        # Linear combination: z = X @ w + b\n",
    "        z = X @ self.weights + self.bias\n",
    "        # Apply sigmoid to get probabilities\n",
    "        probabilities = sigmoid(z)\n",
    "        return probabilities\n",
    "    \n",
    "    def predict(self, X):\n",
    "    \n",
    "        probabilities = self.forward(X)\n",
    "        # If probability >= 0.5, predict class 1, else class 0\n",
    "        return (probabilities >= 0.5).float()\n",
    "    \n",
    "    def compute_loss(self, X, y_true):\n",
    "        \n",
    "        y_pred = self.forward(X)\n",
    "        return binary_cross_entropy_loss(y_pred, y_true)\n",
    "    \n",
    "    def compute_accuracy(self, X, y_true):\n",
    "        \n",
    "        predictions = self.predict(X)\n",
    "        correct = (predictions == y_true).float()\n",
    "        return torch.mean(correct).item()\n",
    "\n",
    "\n",
    "# Initialize model\n",
    "model = LogisticRegression(n_features=X_train.shape[1], learning_rate=0.01)\n",
    "print(f\"Model initialized!\")\n",
    "print(f\"Weight shape: {model.weights.shape}\")\n",
    "print(f\"Initial bias: {model.bias.item():.4f}\")\n"
   ]
  },
  {
   "cell_type": "markdown",
   "id": "8665b92b",
   "metadata": {},
   "source": [
    "### Create DataLoaders\n",
    "\n",
    "Create DataLoaders for training, validation, and test sets.\n"
   ]
  },
  {
   "cell_type": "code",
   "execution_count": 69,
   "id": "5e1f0a5f",
   "metadata": {},
   "outputs": [],
   "source": [
    "from torch.utils.data import TensorDataset, DataLoader\n",
    "\n",
    "# Create TensorDataset objects (puts features and labels together)\n",
    "train_dataset = TensorDataset(X_train, y_train)\n",
    "val_dataset = TensorDataset(X_val, y_val)\n",
    "test_dataset = TensorDataset(X_test, y_test)\n",
    "\n",
    "\n",
    "batch_size = 64\n",
    "\n",
    "train_loader = DataLoader(\n",
    "    train_dataset,\n",
    "    batch_size=batch_size,\n",
    "    shuffle=True  # Shuffle for training to avoid learning order\n",
    ")\n",
    "\n",
    "val_loader = DataLoader(\n",
    "    val_dataset,\n",
    "    batch_size=batch_size,\n",
    "    shuffle=False\n",
    ")\n",
    "\n",
    "test_loader = DataLoader(\n",
    "    test_dataset,\n",
    "    batch_size=batch_size,\n",
    "    shuffle=False\n",
    ")\n"
   ]
  },
  {
   "cell_type": "markdown",
   "id": "b53dc2d7",
   "metadata": {},
   "source": [
    "### Implement Gradient Descent Training\n",
    "\n",
    "Gradient descent updates weights using the gradient of the loss function. We'll compute gradients manually using the mathematical formulas.\n"
   ]
  },
  {
   "cell_type": "code",
   "execution_count": 70,
   "id": "63230bcc",
   "metadata": {},
   "outputs": [],
   "source": [
    "def train_epoch(model, train_loader):\n",
    "    total_loss = 0.0\n",
    "    total_samples = 0\n",
    "    \n",
    "    # Process each batch\n",
    "    for batch_X, batch_y in train_loader:\n",
    "        n_batch = batch_X.shape[0]\n",
    "        total_samples += n_batch\n",
    "        \n",
    "        # Forward pass: compute predictions for this batch\n",
    "        y_pred = model.forward(batch_X)\n",
    "        \n",
    "        # Compute loss for this batch\n",
    "        batch_loss = model.compute_loss(batch_X, batch_y)\n",
    "        total_loss += batch_loss.item() * n_batch  # Weight by batch size\n",
    "        \n",
    "        # BCE loss with sigmoid:\n",
    "        # dL/dw = (1/n) * X^T @ (y_pred - y_true)\n",
    "        # dL/db = (1/n) * sum(y_pred - y_true)\n",
    "        error = y_pred - batch_y\n",
    "        grad_weights = (batch_X.t() @ error) / n_batch\n",
    "        grad_bias = torch.mean(error)\n",
    "        \n",
    "        # Update weights using gradient descent (mini-batch update)\n",
    "        # w = w - learning_rate * gradient\n",
    "        model.weights = model.weights - model.learning_rate * grad_weights\n",
    "        model.bias = model.bias - model.learning_rate * grad_bias\n",
    "    \n",
    "    # Return average loss across all batches\n",
    "    return total_loss / total_samples\n"
   ]
  },
  {
   "cell_type": "code",
   "execution_count": 73,
   "id": "1af240b1",
   "metadata": {},
   "outputs": [
    {
     "name": "stdout",
     "output_type": "stream",
     "text": [
      "Starting training\n",
      "Epoch   50 | Train Loss: 0.002974 | Train Acc: 0.9995 | Val Loss: 0.008655 | Val Acc: 0.9968\n",
      "Epoch  100 | Train Loss: 0.002629 | Train Acc: 0.9995 | Val Loss: 0.008557 | Val Acc: 0.9976\n",
      "Epoch  150 | Train Loss: 0.002370 | Train Acc: 0.9996 | Val Loss: 0.008506 | Val Acc: 0.9976\n",
      "Epoch  200 | Train Loss: 0.002166 | Train Acc: 0.9996 | Val Loss: 0.008482 | Val Acc: 0.9976\n",
      "Epoch  250 | Train Loss: 0.002001 | Train Acc: 0.9997 | Val Loss: 0.008477 | Val Acc: 0.9976\n",
      "Epoch  300 | Train Loss: 0.001863 | Train Acc: 0.9997 | Val Loss: 0.008481 | Val Acc: 0.9976\n",
      "\n",
      " Early stopping at epoch 349\n",
      "  Best validation loss: 0.008477 (achieved at epoch 249)\n",
      "\n",
      "Training completed!\n",
      "Final training accuracy: 0.9997\n",
      "Final validation accuracy: 0.9976\n",
      "Total epochs trained: 349\n"
     ]
    }
   ],
   "source": [
    "# Helper function to evaluate using DataLoader\n",
    "def evaluate(model, data_loader):\n",
    "    total_loss = 0.0\n",
    "    total_correct = 0\n",
    "    total_samples = 0\n",
    "    \n",
    "    with torch.no_grad():  # No need to compute gradients during evaluation\n",
    "        for batch_X, batch_y in data_loader:\n",
    "            n_batch = batch_X.shape[0]\n",
    "            total_samples += n_batch\n",
    "            \n",
    "            # Compute predictions\n",
    "            predictions = model.predict(batch_X)\n",
    "            total_correct += (predictions == batch_y).sum().item()\n",
    "            batch_loss = model.compute_loss(batch_X, batch_y)\n",
    "            total_loss += batch_loss.item() * n_batch\n",
    "    \n",
    "    accuracy = total_correct / total_samples\n",
    "    avg_loss = total_loss / total_samples\n",
    "    \n",
    "    return avg_loss, accuracy\n",
    "\n",
    "\n",
    "# Training loop with convergence detection\n",
    "print(\"Starting training\")\n",
    "\n",
    "# Initialize lists to store training history\n",
    "train_losses = []\n",
    "val_losses = []\n",
    "train_accuracies = []\n",
    "val_accuracies = []\n",
    "\n",
    "# Training parameters\n",
    "max_epochs = 1000  # Number of epochs\n",
    "patience = 100  # Number of epochs to wait before stopping\n",
    "min_delta = 1e-6  # Small threshold - stop when improvement is tiny\n",
    "\n",
    "best_val_loss = float('inf') \n",
    "best_epoch = 0 \n",
    "epochs_no_improve = 0 # Number of epochs without improvement\n",
    "\n",
    "for epoch in range(max_epochs):\n",
    "    # Train each epoch\n",
    "    train_loss = train_epoch(model, train_loader)\n",
    "    \n",
    "    # Evaluate on training set\n",
    "    train_loss_eval, train_acc = evaluate(model, train_loader)\n",
    "    \n",
    "    # Evaluate on validation set\n",
    "    val_loss, val_acc = evaluate(model, val_loader)\n",
    "    \n",
    "    \n",
    "    # Store history\n",
    "    train_losses.append(train_loss_eval) \n",
    "    val_losses.append(val_loss)\n",
    "    train_accuracies.append(train_acc)\n",
    "    val_accuracies.append(val_acc)\n",
    "    \n",
    "    \n",
    "    if (epoch + 1) % 50 == 0 :\n",
    "        print(f\"Epoch {epoch+1:4d} | Train Loss: {train_loss:.6f} | Train Acc: {train_acc:.4f} | \"\n",
    "              f\"Val Loss: {val_loss:.6f} | Val Acc: {val_acc:.4f}\")\n",
    "    \n",
    "    # Early stopping\n",
    "    # Only update best_val_loss if current loss is valid and better\n",
    "    if not torch.isnan(torch.tensor(val_loss)) and val_loss < best_val_loss - min_delta:\n",
    "        best_val_loss = val_loss\n",
    "        best_epoch = epoch + 1\n",
    "        epochs_no_improve = 0\n",
    "    else:\n",
    "        epochs_no_improve += 1\n",
    "        # Early stopping: stop if no improvement for 'patience' epochs\n",
    "        if epochs_no_improve >= patience:\n",
    "            print(f\"\\n Early stopping at epoch {epoch+1}\")\n",
    "            print(f\"  Best validation loss: {best_val_loss:.6f} (achieved at epoch {best_epoch})\")\n",
    "            break\n",
    "\n",
    "# Check if we reached max epochs\n",
    "if epoch == max_epochs - 1:\n",
    "    print(f\"\\n  Reached maximum epochs ({max_epochs})\")\n",
    "    print(f\"  Best validation loss: {best_val_loss:.6f} (achieved at epoch {best_epoch})\")\n",
    "    if epochs_no_improve < patience:\n",
    "        print(f\"  Model was still improving (no improvement for only {epochs_no_improve}/{patience} epochs)\")\n",
    "    else:\n",
    "        print(f\"  Final validation loss: {val_loss:.6f}\")\n",
    "\n",
    "print(\"\\nTraining completed!\")\n",
    "print(f\"Final training accuracy: {train_accuracies[-1]:.4f}\")\n",
    "print(f\"Final validation accuracy: {val_accuracies[-1]:.4f}\")\n",
    "print(f\"Total epochs trained: {len(train_losses)}\")\n"
   ]
  },
  {
   "cell_type": "markdown",
   "id": "2299d714",
   "metadata": {},
   "source": [
    "### Training Curves\n",
    "\n",
    "The training and validation loss and accuracy curves.\n"
   ]
  },
  {
   "cell_type": "code",
   "execution_count": null,
   "id": "c7726045",
   "metadata": {},
   "outputs": [
    {
     "data": {
      "image/png": "[encoded data removed]",
      "text/plain": [
       "<Figure size 1500x500 with 2 Axes>"
      ]
     },
     "metadata": {},
     "output_type": "display_data"
    },
    {
     "name": "stdout",
     "output_type": "stream",
     "text": [
      "Training converged after 5000 epochs\n"
     ]
    }
   ],
   "source": [
    "# Plot training and validation loss curves\n",
    "plt.figure(figsize=(15, 5))\n",
    "\n",
    "# Loss curves\n",
    "plt.subplot(1, 2, 1)\n",
    "plt.plot(train_losses, label='Training Loss', linewidth=2)\n",
    "plt.plot(val_losses, label='Validation Loss', linewidth=2)\n",
    "plt.xlabel('Epoch', fontsize=12)\n",
    "plt.ylabel('Loss', fontsize=12)\n",
    "plt.title('Training and Validation Loss Curves', fontsize=14, fontweight='bold')\n",
    "plt.legend(fontsize=11)\n",
    "plt.grid(True, alpha=0.3)\n",
    "\n",
    "# Accuracy curves\n",
    "plt.subplot(1, 2, 2)\n",
    "plt.plot(train_accuracies, label='Training Accuracy', linewidth=2)\n",
    "plt.plot(val_accuracies, label='Validation Accuracy', linewidth=2)\n",
    "plt.xlabel('Epoch', fontsize=12)\n",
    "plt.ylabel('Accuracy', fontsize=12)\n",
    "plt.title('Training and Validation Accuracy Curves', fontsize=14, fontweight='bold')\n",
    "plt.legend(fontsize=11)\n",
    "plt.grid(True, alpha=0.3)\n",
    "\n",
    "plt.tight_layout()\n",
    "plt.show()\n"
   ]
  },
  {
   "cell_type": "markdown",
   "id": "9ab62f9b",
   "metadata": {},
   "source": [
    "### Final Test Evaluation\n",
    "\n",
    "Evaluate our model on the test set and create a confusion matrix.\n"
   ]
  },
  {
   "cell_type": "code",
   "execution_count": null,
   "id": "08d5a234",
   "metadata": {},
   "outputs": [
    {
     "name": "stdout",
     "output_type": "stream",
     "text": [
      "============================================================\n",
      "FINAL TEST RESULTS\n",
      "============================================================\n",
      "Test Accuracy: 0.9964 (99.64%)\n",
      "Test Loss: 0.0117\n",
      "============================================================\n"
     ]
    }
   ],
   "source": [
    "# Evaluate on test set using DataLoader\n",
    "test_loss, test_accuracy = evaluate(model, test_loader, compute_loss=True)\n",
    "\n",
    "print(f\"Test Accuracy: {test_accuracy:.4f} ({test_accuracy*100:.2f}%)\")\n",
    "print(f\"Test Loss: {test_loss:.4f}\")\n"
   ]
  },
  {
   "cell_type": "code",
   "execution_count": null,
   "id": "339d7e68",
   "metadata": {},
   "outputs": [
    {
     "data": {
      "image/png": "[encoded data removed]",
      "text/plain": [
       "<Figure size 800x600 with 2 Axes>"
      ]
     },
     "metadata": {},
     "output_type": "display_data"
    },
    {
     "name": "stdout",
     "output_type": "stream",
     "text": [
      "\n",
      "Confusion Matrix:\n",
      "                Predicted\n",
      "                0       1\n",
      "Actual  0      1180      5\n",
      "        1         4   1344\n",
      "\n",
      "Interpretation:\n",
      "- True Negatives (TN): 1180 - Correctly predicted class 0\n",
      "- False Positives (FP): 5 - Predicted 1 but actually 0\n",
      "- False Negatives (FN): 4 - Predicted 0 but actually 1\n",
      "- True Positives (TP): 1344 - Correctly predicted class 1\n"
     ]
    }
   ],
   "source": [
    "# Create confusion matrix (collect predictions from test DataLoader)\n",
    "y_test_true = []\n",
    "y_test_pred = []\n",
    "\n",
    "with torch.no_grad():\n",
    "    for batch_X, batch_y in test_loader:\n",
    "        predictions = model.predict(batch_X)\n",
    "        y_test_true.extend(batch_y.numpy())\n",
    "        y_test_pred.extend(predictions.numpy())\n",
    "\n",
    "# Convert to numpy arrays for confusion matrix\n",
    "y_test_true = np.array(y_test_true)\n",
    "y_test_pred = np.array(y_test_pred)\n",
    "\n",
    "cm = confusion_matrix(y_test_true, y_test_pred)\n",
    "\n",
    "# Visualize confusion matrix\n",
    "plt.figure(figsize=(8, 6))\n",
    "plt.imshow(cm, interpolation='nearest', cmap=plt.cm.Blues)\n",
    "plt.title('Confusion Matrix - Test Set', fontsize=14, fontweight='bold')\n",
    "plt.colorbar()\n",
    "tick_marks = [0, 1]\n",
    "plt.xticks(tick_marks, ['Class 0', 'Class 1'])\n",
    "plt.yticks(tick_marks, ['Class 0', 'Class 1'])\n",
    "plt.ylabel('True Label', fontsize=12)\n",
    "plt.xlabel('Predicted Label', fontsize=12)\n",
    "\n",
    "# Add text annotations\n",
    "thresh = cm.max() / 2.\n",
    "for i in range(2):\n",
    "    for j in range(2):\n",
    "        plt.text(j, i, format(cm[i, j], 'd'),\n",
    "                horizontalalignment=\"center\",\n",
    "                color=\"white\" if cm[i, j] > thresh else \"black\",\n",
    "                fontsize=14, fontweight='bold')\n",
    "\n",
    "plt.tight_layout()\n",
    "plt.show()\n",
    "\n"
   ]
  }
 ],
 "metadata": {
  "kernelspec": {
   "display_name": "assignment2_env",
   "language": "python",
   "name": "python3"
  },
  "language_info": {
   "codemirror_mode": {
    "name": "ipython",
    "version": 3
   },
   "file_extension": ".py",
   "mimetype": "text/x-python",
   "name": "python",
   "nbconvert_exporter": "python",
   "pygments_lexer": "ipython3",
   "version": "3.12.7"
  }
 },
 "nbformat": 4,
 "nbformat_minor": 5
}
